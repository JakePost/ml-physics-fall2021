{
 "cells": [
  {
   "cell_type": "markdown",
   "metadata": {
    "collapsed": true,
    "pycharm": {
     "name": "#%% md\n"
    }
   },
   "source": [
    "# Class Notebook - November 15, 2021\n",
    "### Jake Postiglione\n",
    "\n",
    "## Regression"
   ]
  },
  {
   "cell_type": "markdown",
   "source": [
    "We talk about regression when the outcome is a continuous variable, instead of a class.\n",
    "\n",
    "Many classification problems can be solved as regression problems, by using a threshold on the continuous variable.\n",
    "\n",
    "For example, how could you solve the planet habitability problem as regression?\n",
    "\n",
    "Which approach is preferable?"
   ],
   "metadata": {
    "collapsed": false,
    "pycharm": {
     "name": "#%% md\n"
    }
   }
  }
 ],
 "metadata": {
  "kernelspec": {
   "display_name": "Python 3",
   "language": "python",
   "name": "python3"
  },
  "language_info": {
   "codemirror_mode": {
    "name": "ipython",
    "version": 2
   },
   "file_extension": ".py",
   "mimetype": "text/x-python",
   "name": "python",
   "nbconvert_exporter": "python",
   "pygments_lexer": "ipython2",
   "version": "2.7.6"
  }
 },
 "nbformat": 4,
 "nbformat_minor": 0
}