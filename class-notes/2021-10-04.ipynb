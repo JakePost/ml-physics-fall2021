{
 "cells": [
  {
   "cell_type": "markdown",
   "metadata": {
    "collapsed": true,
    "pycharm": {
     "name": "#%% md\n"
    }
   },
   "source": [
    "# Class Notebook - October 04, 2021\n",
    "### Jake Postiglione\n",
    "\n",
    "## What is machine learning?"
   ]
  },
  {
   "cell_type": "markdown",
   "source": [
    "### Supervised Machine Learning\n",
    "\n",
    "1. The desired output is an unknown quantity (label or target) that we'd like to predict from the input features.\n",
    "2. We learn by example: we need a set of objects with known labels. This is called the \"Learning Set\"\n"
   ],
   "metadata": {
    "collapsed": false,
    "pycharm": {
     "name": "#%% md\n"
    }
   }
  },
  {
   "cell_type": "markdown",
   "source": [
    "### Regression vs. Classification\n",
    "\n",
    "We talk about classification when the target is a discrete variable (or class).\n",
    "\n",
    "- Counting the amount of different types of fruit in a bowl.\n",
    "\n",
    "We talk about regression if the outcome is a continuous variable.\n",
    "\n",
    "- Trying to predict the probability that it will  rain in a hour based on current conditions."
   ],
   "metadata": {
    "collapsed": false,
    "pycharm": {
     "name": "#%% md\n"
    }
   }
  },
  {
   "cell_type": "markdown",
   "source": [
    "### Unsupervised Machine Learning\n",
    "\n",
    "No labeled examples: goal is to find a pattern.\n",
    "\n",
    "Useful to group together similar objects, find outliers, or find more efficient representations of data.\n",
    "\n",
    "Can be combined with human input or limited labels to understand the groups."
   ],
   "metadata": {
    "collapsed": false,
    "pycharm": {
     "name": "#%% md\n"
    }
   }
  },
  {
   "cell_type": "markdown",
   "source": [
    "### Answer some of these questions:\n",
    "\n",
    "- Predicting house selling prices (Say, you are a real estate agent and want to know how much you should list houses for)\n",
    "    - Should be supervised learning.\n",
    "    - Need someone to collect and examine historical data.\n",
    "    - Model would be a regression model.\n",
    "    - Variables that we would want to look at include going rate, square footage, house condition, etc.\n",
    "\n",
    "- Trending Topics on Twitter\n",
    "    - Should be unsupervised learning.\n",
    "    - Various factors such as how often something is being tweeted about."
   ],
   "metadata": {
    "collapsed": false,
    "pycharm": {
     "name": "#%% md\n"
    }
   }
  },
  {
   "cell_type": "markdown",
   "source": [
    "### \n",
    "\n"
   ],
   "metadata": {
    "collapsed": false,
    "pycharm": {
     "name": "#%% md\n"
    }
   }
  }
 ],
 "metadata": {
  "kernelspec": {
   "display_name": "Python 3",
   "language": "python",
   "name": "python3"
  },
  "language_info": {
   "codemirror_mode": {
    "name": "ipython",
    "version": 2
   },
   "file_extension": ".py",
   "mimetype": "text/x-python",
   "name": "python",
   "nbconvert_exporter": "python",
   "pygments_lexer": "ipython2",
   "version": "2.7.6"
  }
 },
 "nbformat": 4,
 "nbformat_minor": 0
}