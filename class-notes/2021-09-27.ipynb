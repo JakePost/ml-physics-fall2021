{
 "cells": [
  {
   "cell_type": "markdown",
   "metadata": {
    "collapsed": true,
    "pycharm": {
     "name": "#%% md\n"
    }
   },
   "source": [
    "# Class Notebook - September 27, 2021\n",
    "### Jake Postiglione\n",
    "\n",
    "## Basics of parameter estimation\n",
    "\n",
    "* In Physics we like to measure things.\n",
    "* Sometimes the things that we want to measure are directly measurable, for example the width of a room.\n",
    "* Some other times the measurements are nto direct but come from a model. This process is called *inference*.\n",
    "* Say, for example, that you have a scatter plot with some points that show your measurements (practical example:\n",
    "  time in seconds and distance in meters).\n",
    "* In this case, the data seems to suggest that a simple model, a straight line, could \"fit\" your data.\n",
    "* To \"fit\" the data means that you would be able to draw a model that goes through the data reasonably well, and allows\n",
    "  you to predict what happens in regions not covered by the points.\n",
    "* For this simple case, you would draw a line through your points, and you can find (for example) the slope and intercept of this line.\n",
    "* The SLOPE and INTERCEPT are not measured directly, but they are *inferred* from your measurements + your model.\n",
    "* Those are the parameters of your model.\n",
    "\n",
    "## The X^2 function\n",
    "\n",
    "* In real life, data have uncertainties associated to them. We often call them sigma_i (i means its associated to the i-th data point).\n",
    "* A good thing to do is to take into account the uncertainties when we fit models to data.\n",
    "* Data points with larger uncertainties should matter less. THis is called inverse error weighting. We do this by modifying the loss function:\n",
    "\n",
    "![Loss Function](https://latex.codecogs.com/png.latex?%5Cchi%5E2%3D%5Csum%5En_%7Bi%3D1%7D%28Data_i%20-%20Model_i%28par1%2C%20par2%2C%20...%29%29%5E2%20/%20%5Csigma%5E2_i)\n",
    "\n",
    "## Parameter Fitting\n",
    "\n",
    "* The previous fits to straight lines were done by Python using algorithms that do things in the background.\n",
    "* If we want to fit the line ourselves (finding the parameters \"slope\", \"intercept\"), what should we do?\n",
    "* We can make a grid of all possible parameter values.\n",
    "* Each (slope, intercept) pair corresponds to a *unique* straight line.\n",
    "* THe straight line that minimizes the difference between model and ata, while inverse-weighing the errors in the winning model (best fit).\n",
    "* So we'll go through all the possible combinations of (slope, intercept) pairs and find the one that minimizes the difference."
   ]
  },
  {
   "cell_type": "code",
   "execution_count": 17,
   "outputs": [],
   "source": [
    "import numpy as np\n",
    "import matplotlib\n",
    "import matplotlib.pyplot as plt\n",
    "\n",
    "font = {'size' : 16}\n",
    "matplotlib.rc('font', **font)\n",
    "matplotlib.rc('xtick', labelsize = 14)\n",
    "matplotlib.rc('ytick', labelsize = 14)"
   ],
   "metadata": {
    "collapsed": false,
    "pycharm": {
     "name": "#%% Basic imports and setup\n"
    }
   }
  },
  {
   "cell_type": "code",
   "execution_count": 18,
   "outputs": [],
   "source": [
    "np.random.seed(16) # Fixing the seed.\n",
    "\n",
    "x = np.arange(10)\n",
    "\n",
    "y = 2*x + 5 + np.random.randn(10) # Generate some data with random gaussian scatter."
   ],
   "metadata": {
    "collapsed": false,
    "pycharm": {
     "name": "#%% Setting a random seend and generating random data.\n"
    }
   }
  },
  {
   "cell_type": "code",
   "execution_count": 21,
   "outputs": [
    {
     "data": {
      "text/plain": "Text(0, 0.5, 'distance (m)')"
     },
     "execution_count": 21,
     "metadata": {},
     "output_type": "execute_result"
    },
    {
     "data": {
      "text/plain": "<Figure size 576x432 with 1 Axes>",
      "image/png": "[encoded data removed]"
     },
     "metadata": {
      "needs_background": "light"
     },
     "output_type": "display_data"
    }
   ],
   "source": [
    "plt.figure(figsize = (8,6))\n",
    "plt.scatter(x, y, c = 'red')\n",
    "plt.xlabel('time (s)')\n",
    "plt.ylabel('distance (m)')"
   ],
   "metadata": {
    "collapsed": false,
    "pycharm": {
     "name": "#%% Plot the data we generated.\n"
    }
   }
  },
  {
   "cell_type": "code",
   "execution_count": 24,
   "outputs": [
    {
     "name": "stdout",
     "output_type": "stream",
     "text": [
      "[ 5.1  5.5  8.4 11.1 11.8 14.4 16.1 19.5 20.2 23.1]\n"
     ]
    }
   ],
   "source": [
    "y = np.round(y, 1)\n",
    "print(y) # All the points"
   ],
   "metadata": {
    "collapsed": false,
    "pycharm": {
     "name": "#%%\n"
    }
   }
  },
  {
   "cell_type": "code",
   "execution_count": 28,
   "outputs": [],
   "source": [
    "slopes = np.linspace(1, 3, 101) # Cheating by passing in 101 to get nice numbers to work with\n",
    "\n",
    "intercepts = np.linspace(4, 6, 101)"
   ],
   "metadata": {
    "collapsed": false,
    "pycharm": {
     "name": "#%% Generate a bunch of slopes and intercepts, 100 of each\n"
    }
   }
  },
  {
   "cell_type": "markdown",
   "source": [
    "**Note: These are already > 10000 models (curse of dimensionality!)**\n",
    "For convenience, we can define two functions that describe our model (a straight line) and the squared error function:"
   ],
   "metadata": {
    "collapsed": false,
    "pycharm": {
     "name": "#%% md\n"
    }
   }
  },
  {
   "cell_type": "code",
   "execution_count": 29,
   "outputs": [],
   "source": [
    "def model(x, m, b):\n",
    "    return m * x + b\n",
    "\n",
    "def se(m, b, x, yObserved):\n",
    "    return np.sum((yObserved - model(x, m, b))**2)"
   ],
   "metadata": {
    "collapsed": false,
    "pycharm": {
     "name": "#%%\n"
    }
   }
  },
  {
   "cell_type": "markdown",
   "source": [
    "We can calculate the squared error for each value:"
   ],
   "metadata": {
    "collapsed": false,
    "pycharm": {
     "name": "#%% md\n"
    }
   }
  },
  {
   "cell_type": "code",
   "execution_count": 30,
   "outputs": [],
   "source": [
    "squareErrors = np.array([[se(m, b, x, y) for b in intercepts] for m in slopes])\n",
    "\n",
    "# This generates an array where first index refers to slope and second index refers to intercept."
   ],
   "metadata": {
    "collapsed": false,
    "pycharm": {
     "name": "#%%\n"
    }
   }
  },
  {
   "cell_type": "code",
   "execution_count": 36,
   "outputs": [
    {
     "name": "stdout",
     "output_type": "stream",
     "text": [
      "(52, 17)\n"
     ]
    }
   ],
   "source": [
    "indices = np.unravel_index(squareErrors.argmin(), squareErrors.shape)\n",
    "\n",
    "print(indices)"
   ],
   "metadata": {
    "collapsed": false,
    "pycharm": {
     "name": "#%% Indices of minimum value as a (row, col) pair\n"
    }
   }
  },
  {
   "cell_type": "code",
   "execution_count": 38,
   "outputs": [
    {
     "data": {
      "text/plain": "(2.04, 4.34)"
     },
     "execution_count": 38,
     "metadata": {},
     "output_type": "execute_result"
    }
   ],
   "source": [
    "bestM, bestB = slopes[indices[0]], intercepts[indices[1]]\n",
    "\n",
    "bestM, bestB # How do they compare to the original?"
   ],
   "metadata": {
    "collapsed": false,
    "pycharm": {
     "name": "#%% Derive the slope and intercept for best model\n"
    }
   }
  },
  {
   "cell_type": "code",
   "execution_count": 42,
   "outputs": [
    {
     "data": {
      "text/plain": "[<matplotlib.lines.Line2D at 0x25b77913220>]"
     },
     "execution_count": 42,
     "metadata": {},
     "output_type": "execute_result"
    },
    {
     "data": {
      "text/plain": "<Figure size 576x432 with 1 Axes>",
      "image/png": "[encoded data removed]"
     },
     "metadata": {
      "needs_background": "light"
     },
     "output_type": "display_data"
    }
   ],
   "source": [
    "plt.figure(figsize=(8,6))\n",
    "plt.scatter(x, y, c = 'red')\n",
    "plt.xlabel('time (s)')\n",
    "plt.ylabel('distance (m)')\n",
    "plt.plot(x, bestM * x + bestB, c = 'blue') # Plot the best fit model\n"
   ],
   "metadata": {
    "collapsed": false,
    "pycharm": {
     "name": "#%%\n"
    }
   }
  }
 ],
 "metadata": {
  "kernelspec": {
   "display_name": "Python 3",
   "language": "python",
   "name": "python3"
  },
  "language_info": {
   "codemirror_mode": {
    "name": "ipython",
    "version": 2
   },
   "file_extension": ".py",
   "mimetype": "text/x-python",
   "name": "python",
   "nbconvert_exporter": "python",
   "pygments_lexer": "ipython2",
   "version": "2.7.6"
  }
 },
 "nbformat": 4,
 "nbformat_minor": 0
}