{
 "cells": [
  {
   "cell_type": "markdown",
   "source": [
    "# Class Notebook - October 18, 2021\n",
    "### Jake Postiglione\n",
    "\n",
    "## Algorithms - KNN Algorithm (K Nearest Neighbors)"
   ],
   "metadata": {
    "collapsed": false
   }
  },
  {
   "cell_type": "markdown",
   "source": [
    "Simple, yet powerful!\n",
    "\n",
    "Only one parameter: k (a small integer)\n",
    "\n",
    "To make a prediction for a new object, find k closest examples in the training set.\n",
    "\n",
    "For classification problems, output the majority class\n",
    "\n",
    "For regression problems, output the closest examples\n"
   ],
   "metadata": {
    "collapsed": false,
    "pycharm": {
     "name": "#%% md\n"
    }
   }
  }
 ],
 "metadata": {
  "kernelspec": {
   "display_name": "Python 3",
   "language": "python",
   "name": "python3"
  },
  "language_info": {
   "codemirror_mode": {
    "name": "ipython",
    "version": 2
   },
   "file_extension": ".py",
   "mimetype": "text/x-python",
   "name": "python",
   "nbconvert_exporter": "python",
   "pygments_lexer": "ipython2",
   "version": "2.7.6"
  }
 },
 "nbformat": 4,
 "nbformat_minor": 0
}