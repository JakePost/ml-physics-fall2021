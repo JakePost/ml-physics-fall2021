{
 "cells": [
  {
   "cell_type": "markdown",
   "metadata": {
    "collapsed": true,
    "pycharm": {
     "name": "#%% md\n"
    }
   },
   "source": [
    "# Class Notebook - October 06, 2021\n",
    "### Jake Postiglione\n",
    "\n",
    "## Algorithms - Decision Trees"
   ]
  },
  {
   "cell_type": "markdown",
   "source": [
    "Work like the game 20 Questions or Guess Who.\n",
    "\n",
    "* Work by splitting data on different values or features.\n",
    "* Simplest trees are known as binary trees. For every question we ask, we divide the set into two groups.\n",
    "* If categorical features, the split would be based on answer yes or no to a question.\n",
    "* if numerical, the split would be on a certain value (x > 100 or x < 100)\n",
    "\n",
    "To make a decision tree:\n",
    "* How do we decide which splits to make, among the many possible ones?\n",
    "* How do we decide whether we should stop?\n",
    "\n"
   ],
   "metadata": {
    "collapsed": false,
    "pycharm": {
     "name": "#%% md\n"
    }
   }
  }
 ],
 "metadata": {
  "kernelspec": {
   "display_name": "Python 3",
   "language": "python",
   "name": "python3"
  },
  "language_info": {
   "codemirror_mode": {
    "name": "ipython",
    "version": 2
   },
   "file_extension": ".py",
   "mimetype": "text/x-python",
   "name": "python",
   "nbconvert_exporter": "python",
   "pygments_lexer": "ipython2",
   "version": "2.7.6"
  }
 },
 "nbformat": 4,
 "nbformat_minor": 0
}