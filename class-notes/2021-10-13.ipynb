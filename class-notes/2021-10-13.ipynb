{
 "cells": [
  {
   "cell_type": "markdown",
   "metadata": {
    "collapsed": true,
    "pycharm": {
     "name": "#%% md\n"
    }
   },
   "source": [
    "# Class Notebook - October 13, 2021\n",
    "### Jake Postiglione\n",
    "\n",
    "## Algorithms - Decision Trees Cont."
   ]
  },
  {
   "cell_type": "markdown",
   "source": [
    "Our first example will be a supervised classification problem,\n",
    "in which we attempt to predict if a planet is habitable,\n",
    "based on its distance from parent star, mass of parent star, and orbital period.\n",
    "\n"
   ],
   "metadata": {
    "collapsed": false,
    "pycharm": {
     "name": "#%% md\n"
    }
   }
  }
 ],
 "metadata": {
  "kernelspec": {
   "display_name": "Python 3",
   "language": "python",
   "name": "python3"
  },
  "language_info": {
   "codemirror_mode": {
    "name": "ipython",
    "version": 2
   },
   "file_extension": ".py",
   "mimetype": "text/x-python",
   "name": "python",
   "nbconvert_exporter": "python",
   "pygments_lexer": "ipython2",
   "version": "2.7.6"
  }
 },
 "nbformat": 4,
 "nbformat_minor": 0
}