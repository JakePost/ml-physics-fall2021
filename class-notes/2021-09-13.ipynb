{
 "cells": [
  {
   "cell_type": "markdown",
   "metadata": {
    "collapsed": true,
    "pycharm": {
     "name": "#%% md\n"
    }
   },
   "source": [
    "# Class Notebook - September 13, 2021\n",
    "### Jake Postiglione\n",
    "\n",
    "## Class Exercise 1:\n",
    "\n",
    "1) Write a function that returns the percent difference between a number and pi."
   ]
  },
  {
   "cell_type": "code",
   "execution_count": 21,
   "outputs": [
    {
     "data": {
      "text/plain": "50.0"
     },
     "execution_count": 21,
     "metadata": {},
     "output_type": "execute_result"
    }
   ],
   "source": [
    "import math\n",
    "import numpy\n",
    "\n",
    "piDiff = lambda num : (abs((math.pi - num)) / math.pi) * 100\n",
    "\n",
    "piDiff(math.pi * 0.5)"
   ],
   "metadata": {
    "collapsed": false,
    "pycharm": {
     "name": "#%%\n"
    }
   }
  },
  {
   "cell_type": "markdown",
   "source": [
    "3) Define a function that takes a list as input and returns the mean, if the list contains all floating point numbers, and an error message otherwise. Compare the output with numpy mean function."
   ],
   "metadata": {
    "collapsed": false,
    "pycharm": {
     "name": "#%% md\n"
    }
   }
  },
  {
   "cell_type": "code",
   "execution_count": 20,
   "outputs": [
    {
     "name": "stdout",
     "output_type": "stream",
     "text": [
      "My Function:  Error Message\n",
      "Numpy Function:  5.0\n"
     ]
    }
   ],
   "source": [
    "def list_mean(floatList):\n",
    "    listSum = 0\n",
    "\n",
    "    for num in floatList:\n",
    "        if not isinstance(num, float):\n",
    "            return \"Error Message\"\n",
    "\n",
    "        listSum += num\n",
    "\n",
    "    return listSum / len(floatList)\n",
    "\n",
    "print(\"My Function: \", list_mean([1, 2, 3, 4, 5, 6, 7, 8, 9]))\n",
    "print(\"Numpy Function: \", numpy.mean([1, 2, 3, 4, 5, 6, 7, 8, 9]))\n"
   ],
   "metadata": {
    "collapsed": false,
    "pycharm": {
     "name": "#%%\n"
    }
   }
  }
 ],
 "metadata": {
  "kernelspec": {
   "display_name": "Python 3",
   "language": "python",
   "name": "python3"
  },
  "language_info": {
   "codemirror_mode": {
    "name": "ipython",
    "version": 2
   },
   "file_extension": ".py",
   "mimetype": "text/x-python",
   "name": "python",
   "nbconvert_exporter": "python",
   "pygments_lexer": "ipython2",
   "version": "2.7.6"
  }
 },
 "nbformat": 4,
 "nbformat_minor": 0
}