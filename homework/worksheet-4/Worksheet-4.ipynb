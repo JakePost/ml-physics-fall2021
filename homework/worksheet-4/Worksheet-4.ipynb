{
 "cells": [
  {
   "cell_type": "markdown",
   "metadata": {},
   "source": [
    "### PHYS3600 Fall 2021, Worksheet 4: Welcome to the world of variable stars. Due Nov 17."
   ]
  },
  {
   "cell_type": "code",
   "execution_count": 1,
   "metadata": {},
   "outputs": [],
   "source": [
    "import numpy as np\n",
    "import matplotlib.pyplot as plt\n",
    "from sklearn.metrics import make_scorer, f1_score\n",
    "from sklearn.svm import LinearSVC\n",
    "from sklearn.tree import DecisionTreeClassifier\n",
    "from sklearn import metrics\n",
    "from sklearn.model_selection import cross_validate, cross_val_predict, train_test_split, KFold, learning_curve, \\\n",
    "    StratifiedKFold\n",
    "import pandas as pd"
   ]
  },
  {
   "cell_type": "markdown",
   "metadata": {},
   "source": [
    "#### Original work statement: \n",
    "\n",
    "Please write your name here to indicate that your worksheet is the result of your own work, and you have not copied from sources without citing them (this is plagiarism and is not acceptable). Identical or very similar worksheet will share the credit.\n",
    "\n",
    "#### Your name: Jake Postiglione"
   ]
  },
  {
   "cell_type": "markdown",
   "metadata": {},
   "source": [
    "#### Data description\n",
    "\n",
    "The data we use for this worksheet are about stars. Our features are the so-called \"colors\", which give an indication of whether a star emits more blue, green, yellow, or red light. We are trying to predict whether a star is a special type of star called a RR-Lyrae variable star. So our target values will be yes/no (1/0 in the language of numpy arrays)."
   ]
  },
  {
   "cell_type": "markdown",
   "metadata": {},
   "source": [
    "1\\. Load the data for features and target from the appropriate files and save them as numpy arrays. (note: the default delimiter won't work, these are comma separated values!)"
   ]
  },
  {
   "cell_type": "code",
   "execution_count": 2,
   "outputs": [
    {
     "name": "stdout",
     "output_type": "stream",
     "text": [
      "(2483, 4) (2483,) 483\n"
     ]
    }
   ],
   "source": [
    "np.random.seed(1218)\n",
    "\n",
    "\n",
    "def unison_shuffled_copies(a, b):\n",
    "    assert len(a) == len(b)\n",
    "    p = np.random.permutation(len(a))\n",
    "    return a[p], b[p]\n",
    "\n",
    "\n",
    "features = pd.read_csv('RRLyrae_features_small.txt', header=None, names=['Blue', 'Green', 'Yellow', 'Red']).to_numpy()\n",
    "targets = np.loadtxt('RRLyrae_labels_small.txt')\n",
    "\n",
    "features, targets = unison_shuffled_copies(features, targets)\n",
    "\n",
    "print(features.shape, targets.shape, np.count_nonzero(targets == 1))"
   ],
   "metadata": {
    "collapsed": false,
    "pycharm": {
     "name": "#%%\n"
    }
   }
  },
  {
   "cell_type": "markdown",
   "source": [
    "2\\. Answer the following questions:\n",
    "\n",
    "Is this a classification or regression problem?\n",
    "\n",
    "    This is a classification problem since we want to determine if, in this case a star, is a RR-Lyrae variable star based on the intensity of light it emits.\n",
    "\n",
    "Is this supervised or unsupervised learning?\n",
    "\n",
    "    This would be supervised learning since the data is pre labeled.\n",
    "\n",
    "How many instances are in this data set?\n",
    "\n",
    "    There are 2483 instances in this data set.\n",
    "\n",
    "How many features?\n",
    "\n",
    "    There are 4 features in this data set, 'Blue', 'Green', 'Yellow', and 'Red' intensity of emitted light.\n",
    "\n",
    "How many RR Lyrae stars (i.e., examples of the positive class) are in the data set?\n",
    "\n",
    "    483 stars in this data set are classified as RR-Lyrae stars.\n",
    "\n",
    "What would be the accuracy of a classifier that classifies all objects in the data set as non-RR Lyrae?\n",
    "\n",
    "    If a classifier were to classify all objects in the dataset as non-RR Lyrae, the accuracy would be 80.5%"
   ],
   "metadata": {
    "collapsed": false
   }
  },
  {
   "cell_type": "markdown",
   "metadata": {},
   "source": [
    "3\\. Use a Decision Tree Classifier, and implement k-fold cross validation algorithm using the syntax in the second cell."
   ]
  },
  {
   "cell_type": "code",
   "execution_count": 3,
   "metadata": {},
   "outputs": [],
   "source": [
    "X_train, X_test, y_train, y_test = train_test_split(features, targets, random_state=2)\n",
    "\n",
    "model = DecisionTreeClassifier(random_state=5)\n",
    "model.fit(X_train, y_train)\n",
    "\n",
    "cvKFold = KFold(shuffle=True, n_splits=5, random_state=5)\n",
    "\n",
    "scores = cross_validate(model, features, targets, cv=cvKFold)"
   ]
  },
  {
   "cell_type": "markdown",
   "metadata": {},
   "source": [
    "4\\. Report the scores, and calculate the mean and standard deviation of the scores vector. "
   ]
  },
  {
   "cell_type": "code",
   "execution_count": 4,
   "outputs": [
    {
     "name": "stdout",
     "output_type": "stream",
     "text": [
      "Scores: [0.97384306 0.96780684 0.9778672  0.94153226 0.97782258]\n",
      "Mean: 0.968 Standard Deviation: 0.014\n"
     ]
    }
   ],
   "source": [
    "print(\"Scores:\", scores['test_score'])\n",
    "\n",
    "print(\"Mean: {:.3f}\".format(scores['test_score'].mean()),\n",
    "      \"Standard Deviation: {:.3f}\".format(scores['test_score'].std()))"
   ],
   "metadata": {
    "collapsed": false,
    "pycharm": {
     "name": "#%%\n"
    }
   }
  },
  {
   "cell_type": "markdown",
   "metadata": {},
   "source": [
    "5\\. Print out the confusion matrix for your model (Note: you are not asked to plot it, although I won't stop you if you want to!) To generate the predictions, you can use the \"cross_val_predict\" function:"
   ]
  },
  {
   "cell_type": "code",
   "execution_count": 5,
   "outputs": [
    {
     "name": "stdout",
     "output_type": "stream",
     "text": [
      "[[1958   42]\n",
      " [  38  445]]\n"
     ]
    }
   ],
   "source": [
    "y_predict = cross_val_predict(model, features, targets, cv=cvKFold)\n",
    "\n",
    "cm = metrics.confusion_matrix(targets, y_predict)\n",
    "print(cm)"
   ],
   "metadata": {
    "collapsed": false,
    "pycharm": {
     "name": "#%%\n"
    }
   }
  },
  {
   "cell_type": "markdown",
   "metadata": {},
   "source": [
    "6\\. Based on the confusion matrix, how many true positive, true negative, false positive, false negative instances do you have?"
   ]
  },
  {
   "cell_type": "markdown",
   "source": [
    "True Positive: 446\n",
    "True Negative: 1958\n",
    "False Positive: 42\n",
    "False Negative: 37"
   ],
   "metadata": {
    "collapsed": false
   }
  },
  {
   "cell_type": "markdown",
   "metadata": {},
   "source": [
    "7\\. Based on the definitions given on the slides, calculate accuracy, precision and recall. <b>Important:</b> Write your steps and do not use built-in functions. "
   ]
  },
  {
   "cell_type": "markdown",
   "source": [
    "accuracy = $(tp+tn)/(tp+tn+fp+fn) = (446 + 1958) / (446 + 1958 + 42 + 37) = \\boxed{0.968}$\n",
    "\n",
    "precision = $tp / (tp + fp) = 446 / (446 + 42) = \\boxed{0.914}$\n",
    "\n",
    "recall = $tp / (tp + fn) = 119 / (119 + 37) = \\boxed{0.923}$"
   ],
   "metadata": {
    "collapsed": false
   }
  },
  {
   "cell_type": "markdown",
   "metadata": {},
   "source": [
    "8\\. Which evaluation metric is used by the cross validation score in 4.? [To answer this question, you might need to check out the description of the function]. Given the distribution of classes in your data set, do you see a possible issue?"
   ]
  },
  {
   "cell_type": "markdown",
   "source": [
    "From what I can find, the cross-validation method seems to be calculating the accuracy for test scores, this can be an issue with our test data since it is rather unbalanced."
   ],
   "metadata": {
    "collapsed": false
   }
  },
  {
   "cell_type": "markdown",
   "metadata": {},
   "source": [
    "9\\. Other evaluation metrics can be found in scikit-learn using the code below."
   ]
  },
  {
   "cell_type": "code",
   "execution_count": 6,
   "metadata": {},
   "outputs": [
    {
     "name": "stdout",
     "output_type": "stream",
     "text": [
      "0.9677809101892871\n",
      "0.9213250517598344\n",
      "0.9137577002053389\n",
      "0.9175257731958764\n",
      "\n",
      "0.9677809101892871\n",
      "0.9137577002053389\n",
      "0.9213250517598344\n",
      "0.9175257731958764\n"
     ]
    }
   ],
   "source": [
    "print(metrics.accuracy_score(targets, y_predict))\n",
    "print(metrics.recall_score(targets, y_predict))\n",
    "print(metrics.precision_score(targets, y_predict))\n",
    "print(metrics.f1_score(targets, y_predict))\n",
    "print(\"\")\n",
    "print(metrics.accuracy_score(y_predict, targets))\n",
    "print(metrics.recall_score(y_predict, targets))\n",
    "print(metrics.precision_score(y_predict, targets))\n",
    "print(metrics.f1_score(y_predict, targets))"
   ]
  },
  {
   "cell_type": "markdown",
   "metadata": {},
   "source": [
    "What happens to each of the metrics above if you flip y and y_pred? \n"
   ]
  },
  {
   "cell_type": "markdown",
   "source": [
    "The f1_score and accuracy score remain the same regardless of which variable is first, but for different reasons. The recall and precisions scores flip, which makes sense since the fp and fn also swap when reversing the variables.\n",
    "\n",
    "the f1_score remains the same due to the commutative property of multiplication and addition since precision and recall are swapped."
   ],
   "metadata": {
    "collapsed": false
   }
  },
  {
   "cell_type": "markdown",
   "metadata": {},
   "source": [
    "To compare performance for now, let's use the F1 score, a weighted average of precision and recall.\n",
    "\n",
    "F1 = 2 * (precision * recall) / (precision + recall)\n",
    "\n",
    "10\\. Find out how to use the f1 score (instead of accuracy) as an optional argument of the cross_validate function and report the mean and standard deviation of the scores associated to this evaluation metric.\n"
   ]
  },
  {
   "cell_type": "code",
   "execution_count": 7,
   "outputs": [
    {
     "name": "stdout",
     "output_type": "stream",
     "text": [
      "Scores: [0.92655367 0.91208791 0.94835681 0.86635945 0.93922652]\n",
      "Mean: 0.919 Standard Deviation: 0.029\n"
     ]
    }
   ],
   "source": [
    "scorer = make_scorer(f1_score)\n",
    "scores = cross_validate(model, features, targets, cv=cvKFold, scoring=scorer)\n",
    "\n",
    "print(\"Scores:\", scores['test_score'])\n",
    "print(\"Mean: {:.3f}\".format(scores['test_score'].mean()),\n",
    "      \"Standard Deviation: {:.3f}\".format(scores['test_score'].std()))"
   ],
   "metadata": {
    "collapsed": false,
    "pycharm": {
     "name": "#%%\n"
    }
   }
  },
  {
   "cell_type": "markdown",
   "metadata": {},
   "source": [
    "11\\. It is now time to look at some diagnostics. Use the cross_validate function with 'return_train_score = True'. Compare the f1 train and test scores obtained by your model. Based on this result, do you think your algorithm suffers from high variance or high bias and why?"
   ]
  },
  {
   "cell_type": "code",
   "execution_count": 8,
   "outputs": [
    {
     "name": "stdout",
     "output_type": "stream",
     "text": [
      "Test Scores: [0.92655367 0.91208791 0.94835681 0.86635945 0.93922652]\n",
      "Train Scores: [1. 1. 1. 1. 1.]\n"
     ]
    }
   ],
   "source": [
    "scores = cross_validate(model, features, targets, cv=cvKFold, scoring=scorer, return_train_score=True)\n",
    "print(\"Test Scores:\", scores['test_score'])\n",
    "print(\"Train Scores:\", scores['train_score'])"
   ],
   "metadata": {
    "collapsed": false,
    "pycharm": {
     "name": "#%%\n"
    }
   }
  },
  {
   "cell_type": "markdown",
   "source": [
    "Based on this diagnostics, it would seem that the model is has high variance. Unless I have something set up incorrectly, which I'm afraid I might, the training scores are showing that the model it able to correctly classify the training set without any errors, but has some issues classifying the test set, meaning it does not generalize well."
   ],
   "metadata": {
    "collapsed": false
   }
  },
  {
   "cell_type": "markdown",
   "metadata": {},
   "source": [
    "12\\. Finally, we can look at learning curves. Use the code in the notebook \"HP_Chap3_Filled\" to plot learning curves. Based on what you see in the plot, do you think getting more training data would help? (Justify your answer)?\n",
    "\n"
   ]
  },
  {
   "cell_type": "code",
   "execution_count": 9,
   "outputs": [
    {
     "data": {
      "text/plain": "<Figure size 720x432 with 1 Axes>",
      "image/png": "[encoded data removed]"
     },
     "metadata": {
      "needs_background": "light"
     },
     "output_type": "display_data"
    }
   ],
   "source": [
    "def plot_learning_curve(estimator, title, X, y, ylim=None, cv=5, n_jobs=-1, train_sizes=np.linspace(.1, 1.0, 5),\n",
    "                        scoring='accuracy'):\n",
    "    plt.figure(figsize=(10, 6))\n",
    "    plt.title(title)\n",
    "\n",
    "    if ylim is not None:\n",
    "        plt.ylim(*ylim)\n",
    "\n",
    "    plt.xlabel(\"Training examples\")\n",
    "    plt.ylabel(str(scoring))\n",
    "\n",
    "    train_sizes, train_scores, test_scores = learning_curve(estimator, X, y, cv=cv, n_jobs=n_jobs,\n",
    "                                                            train_sizes=train_sizes, scoring=scoring)\n",
    "    train_scores_mean = np.mean(train_scores, axis=1)\n",
    "    train_scores_std = np.std(train_scores, axis=1)\n",
    "    test_scores_mean = np.mean(test_scores, axis=1)\n",
    "    test_scores_std = np.std(test_scores, axis=1)\n",
    "    plt.grid()\n",
    "\n",
    "    plt.fill_between(train_sizes, train_scores_mean - train_scores_std, train_scores_mean + train_scores_std, alpha=0.1,\n",
    "                     color=\"r\")\n",
    "    plt.fill_between(train_sizes, test_scores_mean - test_scores_std, test_scores_mean + test_scores_std, alpha=0.1,\n",
    "                     color=\"g\")\n",
    "    plt.plot(train_sizes, train_scores_mean, 'o-', color=\"r\", label=\"Training score\")\n",
    "    plt.plot(train_sizes, test_scores_mean, 'o-', color=\"g\", label=\"Test score from cross-validation\")\n",
    "\n",
    "    plt.legend(loc=\"best\")\n",
    "    return plt\n",
    "\n",
    "\n",
    "plot_learning_curve(model, 'Decision Tree', features, targets, cv=cvKFold, scoring=scorer);"
   ],
   "metadata": {
    "collapsed": false,
    "pycharm": {
     "name": "#%%\n"
    }
   }
  },
  {
   "cell_type": "markdown",
   "metadata": {},
   "source": [
    "<b> Extra Credit </b>"
   ]
  },
  {
   "cell_type": "markdown",
   "metadata": {
    "collapsed": true
   },
   "source": [
    "13\\. What did I do wrong (bad practice) in 3. and 5. ?"
   ]
  },
  {
   "cell_type": "markdown",
   "source": [
    "I believe, and I could be completely wrong, that the full data set was used for training the model as apposed to splitting the set and having a training and test set."
   ],
   "metadata": {
    "collapsed": false
   }
  },
  {
   "cell_type": "markdown",
   "metadata": {},
   "source": [
    "14\\. Train a SVM model with rbf kernel and see if you can beat the f1 score from the DT. Do you notice any other improvement?"
   ]
  },
  {
   "cell_type": "code",
   "execution_count": 10,
   "outputs": [
    {
     "name": "stdout",
     "output_type": "stream",
     "text": [
      "Scores: [0.92385787 0.93333333 0.93532338 0.93939394 0.90810811]\n",
      "Mean: 0.928 Standard Deviation: 0.011\n"
     ]
    }
   ],
   "source": [
    "svcModel = LinearSVC(dual=False, C=1000)\n",
    "cvSVC = StratifiedKFold(n_splits=5, shuffle=True, random_state=101)\n",
    "svcScores = cross_validate(svcModel, features, targets, cv=cvSVC, scoring=scorer, return_train_score=True)\n",
    "\n",
    "print(\"Scores:\", svcScores['test_score'])\n",
    "print(\"Mean: {:.3f}\".format(svcScores['test_score'].mean()),\n",
    "      \"Standard Deviation: {:.3f}\".format(svcScores['test_score'].std()))"
   ],
   "metadata": {
    "collapsed": false,
    "pycharm": {
     "name": "#%%\n"
    }
   }
  },
  {
   "cell_type": "markdown",
   "source": [
    "Compared to the Decision Tree, it seems like the SVM model scores slightly higher with a mean of 0.928 and a lower deviation that the standard deviation of the DT model."
   ],
   "metadata": {
    "collapsed": false
   }
  }
 ],
 "metadata": {
  "kernelspec": {
   "display_name": "Python 3",
   "language": "python",
   "name": "python3"
  },
  "language_info": {
   "codemirror_mode": {
    "name": "ipython",
    "version": 3
   },
   "file_extension": ".py",
   "mimetype": "text/x-python",
   "name": "python",
   "nbconvert_exporter": "python",
   "pygments_lexer": "ipython3",
   "version": "3.7.3"
  }
 },
 "nbformat": 4,
 "nbformat_minor": 2
}