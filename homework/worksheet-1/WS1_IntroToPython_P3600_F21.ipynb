{
 "cells": [
  {
   "cell_type": "markdown",
   "metadata": {},
   "source": [
    "### PHYS3600 Fall 2021 - Worksheet 1 - due September 29"
   ]
  },
  {
   "cell_type": "markdown",
   "metadata": {},
   "source": [
    "#### Please upload to Blackboard the .ipynb file, containing your last name."
   ]
  },
  {
   "cell_type": "markdown",
   "metadata": {},
   "source": [
    "#### Original work statement: \n",
    "\n",
    "Please write your name here to indicate that your worksheet is the result of your own work, and you have not copied from sources without citing them (this is plagiarism and is not acceptable). Identical or very similar worksheet will share the credit.\n",
    "\n",
    "#### Your name: Jake Postiglione"
   ]
  },
  {
   "cell_type": "markdown",
   "metadata": {},
   "source": [
    "1\\. Form the following 2-D array, without typing it in explicitly: (hint: you can generate it as a 1D array and then use .reshape)\n",
    "\n",
    "<br>\n",
    "       ([[ 1,  4,  7], <br>\n",
    "       [ 10,  13, 16]]) "
   ]
  },
  {
   "cell_type": "markdown",
   "metadata": {},
   "source": [
    "2\\. Form a new array that contains only the first two rows and columns of the one above."
   ]
  },
  {
   "cell_type": "markdown",
   "metadata": {},
   "source": [
    "3\\. Define a function that takes as input two arrays a and b and\n",
    "    1. Checks if they are of equal length and throws an error if they are not;\n",
    "    2. Checks if all elements in a are > 0;\n",
    "    3. Checks if any elements in b are < 0;\n",
    "    4. Returns the logical AND of 2. and 3."
   ]
  },
  {
   "cell_type": "markdown",
   "metadata": {},
   "source": [
    "4\\. Create an array containing 26 random numbers between 0 and 1, find the largest value, and return the index of the minimum."
   ]
  },
  {
   "cell_type": "markdown",
   "metadata": {},
   "source": [
    "5\\. Read into a numpy array the data set \"YaleTrigParallaxData.txt\". \n",
    "\n",
    "This data set contains information, collected by the Hipparcos satellite, about the properties of about 6,000 stars in a star cluster. The data set has five columns: \n",
    "\n",
    "column 1: star ID number \n",
    "\n",
    "column 2: apparent V (visual) magnitude \n",
    "\n",
    "column 3: observed B-V color  \n",
    "\n",
    "column 4: observed parallax (in arcsec) \n",
    "\n",
    "column 5: uncertainty in parallax (in milliarcsec) \n",
    "\n",
    "\n",
    "We are only interested in the apparent V magnitude, the parallax angle, which is inversely proportional to a star's distance, and the B-V color, which is the gradient of brightness in B band compared to V band."
   ]
  },
  {
   "cell_type": "markdown",
   "metadata": {},
   "source": [
    "6\\. Define three arrays with the columns of interest (Visual Mag, B-V color, Parallax)."
   ]
  },
  {
   "cell_type": "markdown",
   "metadata": {},
   "source": [
    "7\\. Calculate the shape of your array."
   ]
  },
  {
   "cell_type": "markdown",
   "metadata": {},
   "source": [
    "8\\. Define a function, absolute magintude M, that calculates the star's absolute magnitude, a measure of luminosity, starting from V (the visual brightness) and the parallax P. The function should implement the following relationship:\n",
    "\n",
    "M = V + 5 * (log$\\_{10}$ (P) + 1)\n",
    "\n",
    "Hint: To implement the base 10 log, you can use the function np.log10().\n",
    "\n",
    "\n"
   ]
  },
  {
   "cell_type": "markdown",
   "metadata": {},
   "source": [
    "9\\. Make a scatter plot that has B-V for the stars on the x axis (make sure you index your array correctly!), and their absolute magnitude (calculated using the function you just made) on the y axis. This is called a H-R diagram (Hertzsprung-Russell diagram). It encodes information about the temperature of stars (expressed by color, or B-V) and their luminosity. \n",
    "\n",
    "Add axes titles as appropriate.\n",
    "\n",
    "Adjust axes limits to be [-0.3,2] for B-V, [-10, 20] for M.\n",
    "\n"
   ]
  },
  {
   "cell_type": "markdown",
   "metadata": {},
   "source": [
    "10\\. Visualize B-V as a histogram.\n",
    "\n",
    "\n"
   ]
  },
  {
   "cell_type": "markdown",
   "metadata": {},
   "source": [
    "11\\. For the B-V array, calculate its mean, median, and its standard deviation."
   ]
  },
  {
   "cell_type": "markdown",
   "metadata": {},
   "source": [
    "Extra Credit: Add information to the plot in 9\\. using colors and sizes. Re-make the above scatter plot with colors arranged according to Vmag, and another scatter plot where the size of the markers is proportional to the Vmag of each point.\n",
    "\n"
   ]
  },
  {
   "cell_type": "code",
   "execution_count": null,
   "metadata": {
    "collapsed": true
   },
   "outputs": [],
   "source": []
  }
 ],
 "metadata": {
  "kernelspec": {
   "display_name": "Python 3",
   "language": "python",
   "name": "python3"
  },
  "language_info": {
   "codemirror_mode": {
    "name": "ipython",
    "version": 3
   },
   "file_extension": ".py",
   "mimetype": "text/x-python",
   "name": "python",
   "nbconvert_exporter": "python",
   "pygments_lexer": "ipython3",
   "version": "3.7.3"
  }
 },
 "nbformat": 4,
 "nbformat_minor": 2
}