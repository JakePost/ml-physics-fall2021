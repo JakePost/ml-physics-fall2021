{
 "cells": [
  {
   "cell_type": "markdown",
   "metadata": {},
   "source": [
    "#### HW2: Modeling a Universe with Dark Energy. \n",
    "\n",
    "#### Please upload to Blackboard the .ipynb file, containing your last name."
   ]
  },
  {
   "cell_type": "markdown",
   "metadata": {},
   "source": [
    "#### Original work statement: \n",
    "\n",
    "Please write your name here to indicate that your worksheet is the result of your own work, and you have not copied from sources without citing them (this is plagiarism and is not acceptable). Identical or very similar worksheet will share the credit.\n",
    "\n",
    "#### Your name: Jake Postiglione"
   ]
  },
  {
   "cell_type": "markdown",
   "metadata": {},
   "source": [
    "The worksheet is organized as a series of tasks. You can edit this notebook directly by adding code (and comment) cells to perform these tasks. You will need to import packages, even if this is not explicitly requested.\n",
    "\n",
    "One function from a package that we haven't mentioned so far but you will need is scipy.integrate (numerical integration)."
   ]
  },
  {
   "cell_type": "code",
   "execution_count": 131,
   "metadata": {},
   "outputs": [],
   "source": [
    "import numpy as np\n",
    "\n",
    "import math\n",
    "\n",
    "import scipy.integrate\n",
    "\n",
    "import matplotlib.pyplot as plt\n",
    "\n",
    "%matplotlib inline"
   ]
  },
  {
   "cell_type": "markdown",
   "metadata": {
    "collapsed": true
   },
   "source": [
    "#### Task 1: Import the data from the file sn_data.txt\n",
    "\n",
    "This data set contains three columns. \n",
    "\n",
    "The first one is the redshift of the supernovae. Redshift is a measure of the velocity at which supernovae are moving away from us. Redshift = 0 means no motion, increasing values represent increasing velocity. Redshift has no units.\n",
    "\n",
    "The second column is the distance of the supernovae, expressed in the units of Mpc (megaparsec). Mega = 1 Million; 1 parsec (pc) = 3.26 light years.\n",
    "\n",
    "The third column contains the uncertainties on the distance measurements, (let's call them sigma(d)), again expressed in Mpc."
   ]
  },
  {
   "cell_type": "code",
   "execution_count": 132,
   "metadata": {},
   "outputs": [],
   "source": [
    "sndata = np.genfromtxt('sn_data.txt', dtype='float')\n",
    "\n",
    "redshift = sndata[:, 0]\n",
    "distance = sndata[:, 1]\n",
    "distance_sigma = sndata[:, 2]"
   ]
  },
  {
   "cell_type": "markdown",
   "metadata": {},
   "source": [
    "#### Task 2: Make an errorbar plot of this data set.\n",
    "\n",
    "Place redshift (z) on the x axis, distance on the y axis, and sigma(d) as the error on the distance. Add labels to the axes and don't forget the units."
   ]
  },
  {
   "cell_type": "code",
   "execution_count": 133,
   "outputs": [
    {
     "data": {
      "text/plain": "<ErrorbarContainer object of 3 artists>"
     },
     "execution_count": 133,
     "metadata": {},
     "output_type": "execute_result"
    },
    {
     "data": {
      "text/plain": "<Figure size 576x432 with 1 Axes>",
      "image/png": "[encoded data removed]"
     },
     "metadata": {
      "needs_background": "light"
     },
     "output_type": "display_data"
    }
   ],
   "source": [
    "plt.figure(figsize=(8,6))\n",
    "plt.xlabel('Redshift')\n",
    "plt.ylabel('Distance (Mpc)')\n",
    "\n",
    "plt.errorbar(redshift, distance, distance_sigma)"
   ],
   "metadata": {
    "collapsed": false,
    "pycharm": {
     "name": "#%%\n"
    }
   }
  },
  {
   "cell_type": "markdown",
   "metadata": {},
   "source": [
    "The plot that you just made just shows the data. Now what we want to do is to build different models for the distance of these supernovae, and then choose the model that works best.\n",
    "\n",
    "Our model for the distance (called \"Luminosity Distance\" by physicists) is a function of different parameters: \n",
    "\n",
    "- z (the redshift) is the independent variable; in other words, our model for the distance will return a distance for any redshift value.\n",
    "\n",
    "- Omegam is the percentage of matter in the Universe, and it's a number between 0 and 1;\n",
    "\n",
    "- OmegaDE is the percentage of Dark Energy in the Universe; we can assume that Omegam + OmegaDE = 1 (so the Universe only contains matter and dark energy), which simplifies our model a little bit, because we can write OmegaDE = 1 - Omegam;\n",
    "\n",
    "- H0 is the Hubble constant, which gives the current rate of expansion of the Universe; we will fix it to be = 70 km/s/Mpc;\n",
    "\n",
    "- c is the speed of light in km/s; c = 2.99 x 10^5. This is a constant of nature so we won't need to change it.\n",
    "\n",
    "Here comes our model:"
   ]
  },
  {
   "cell_type": "markdown",
   "metadata": {},
   "source": [
    "\n",
    "\\begin{align}\n",
    "D_L(z,\\Omega_m, H_0, c) = \\,(1+z) \\frac{c}{H_0}\\int_0^z \\frac{dx}{\\sqrt{\\Omega_m(1+x)^3 + \\Omega_{DE}}} \n",
    "\\end{align}"
   ]
  },
  {
   "cell_type": "markdown",
   "metadata": {},
   "source": [
    "#### Task 3: Complete this function definition. Use the notes above!\n",
    "\n",
    "Note: Omega_DE is not a parameter of the function, because our function is a function of Omega_m only.\n"
   ]
  },
  {
   "cell_type": "code",
   "execution_count": 134,
   "metadata": {},
   "outputs": [],
   "source": [
    "def LumDist(z, Omegam = 0.3, H0 = 70, ckms = 2.99 * 10 ** 5) :\n",
    "\n",
    "    # return .... scipy.integrate.quad(lambda x: 1./math.sqrt(Omegam*(1.0 + x)**3. + (....)), 0, z)[0]\n",
    "    return (1 + z) * (ckms / H0) * scipy.integrate.quad(lambda x: 1/math.sqrt(Omegam * (1.0 + x) ** 3 + (1 - Omegam)), 0, z)[0]"
   ]
  },
  {
   "cell_type": "markdown",
   "metadata": {},
   "source": [
    "#### Task 4\n",
    "\n",
    "Answer the questions: What are the arguments of the LumDist function? Which ones have default values?\n",
    "\n",
    "Before continuing, check that LumDist(1) ~ 5512 and LumDist(0.5) ~ 2522."
   ]
  },
  {
   "cell_type": "code",
   "execution_count": 135,
   "outputs": [
    {
     "name": "stdout",
     "output_type": "stream",
     "text": [
      "6590.191224626158\n",
      "2825.44963181206\n"
     ]
    }
   ],
   "source": [
    "print(LumDist(1))\n",
    "print(LumDist(0.5))"
   ],
   "metadata": {
    "collapsed": false,
    "pycharm": {
     "name": "#%%\n"
    }
   }
  },
  {
   "cell_type": "markdown",
   "source": [
    "    The arguments of LumDist represent, in order, the measured redshift,\n",
    "    the percent of matter in the universe, Hubble's constant, and the speed of light in km/s\n",
    "\n",
    "    The percentage of matter, Hubble's constant, and the speed of light all have default values for the function."
   ],
   "metadata": {
    "collapsed": false,
    "pycharm": {
     "name": "#%% md\n"
    }
   }
  },
  {
   "cell_type": "markdown",
   "metadata": {},
   "source": [
    "#### Task 5\n",
    "\n",
    "In its current form, the \"LumDist\" function cannot take arrays as inputs (only single numbers). We can vectorize the function so we can give it a 1D array of redshifts as input:\n",
    "\n",
    "vecLumDist = np.vectorize(LumDist)\n",
    "\n",
    "Check that it works by defining a numpy array, \"z\", with the first column of your supernova data, and feeding it to your function.\n"
   ]
  },
  {
   "cell_type": "code",
   "execution_count": 136,
   "outputs": [],
   "source": [
    "vecLumDist = np.vectorize(LumDist)\n",
    "\n",
    "lumDistances = vecLumDist(redshift)"
   ],
   "metadata": {
    "collapsed": false,
    "pycharm": {
     "name": "#%%\n"
    }
   }
  },
  {
   "cell_type": "markdown",
   "metadata": {},
   "source": [
    "#### Task 6\n",
    "\n",
    "You can now plot the luminosity distance versus redshift for any model of the Universe! \n",
    "\n",
    "Begin by plotting z (the redshifts) versus the luminosity distance, for Omega_m = 0.3 (default value)."
   ]
  },
  {
   "cell_type": "code",
   "execution_count": 137,
   "outputs": [
    {
     "data": {
      "text/plain": "[<matplotlib.lines.Line2D at 0x17bc2d2e190>]"
     },
     "execution_count": 137,
     "metadata": {},
     "output_type": "execute_result"
    },
    {
     "data": {
      "text/plain": "<Figure size 576x432 with 1 Axes>",
      "image/png": "[encoded data removed]"
     },
     "metadata": {
      "needs_background": "light"
     },
     "output_type": "display_data"
    }
   ],
   "source": [
    "plt.figure(figsize=(8,6))\n",
    "plt.xlabel('Redshift')\n",
    "plt.ylabel('Luminosity Distance (OmegaM = 0.3)')\n",
    "\n",
    "plt.plot(redshift, lumDistances)"
   ],
   "metadata": {
    "collapsed": false,
    "pycharm": {
     "name": "#%%\n"
    }
   }
  },
  {
   "cell_type": "markdown",
   "metadata": {},
   "source": [
    "#### Task 7\n",
    "\n",
    "Now let's compare data and models on a scatter plot to see which model best fits the data. Plot the data with error bars as before, and then the luminosity distance curve for the supernovae for three models:\n",
    "    \n",
    "Model 1: Omega_m = 0 \n",
    "    \n",
    "Model 2: Omega_m = 0.3\n",
    "    \n",
    "Model 3: Omega_m = 1\n",
    "\n",
    "Make sure you add labels for all the models.\n"
   ]
  },
  {
   "cell_type": "code",
   "execution_count": 138,
   "outputs": [
    {
     "data": {
      "text/plain": "<matplotlib.legend.Legend at 0x17bc2d95f40>"
     },
     "execution_count": 138,
     "metadata": {},
     "output_type": "execute_result"
    },
    {
     "data": {
      "text/plain": "<Figure size 576x432 with 1 Axes>",
      "image/png": "[encoded data removed]"
     },
     "metadata": {
      "needs_background": "light"
     },
     "output_type": "display_data"
    }
   ],
   "source": [
    "vecLumDistM1 = np.vectorize(lambda z: LumDist(z, Omegam=0))\n",
    "vecLumDistM2 = np.vectorize(lambda z: LumDist(z))\n",
    "vecLumDistM3 = np.vectorize(lambda z: LumDist(z, Omegam=1))\n",
    "\n",
    "plt.figure(figsize=(8,6))\n",
    "plt.xlabel('Redshift')\n",
    "plt.ylabel('Distance (Mpc)')\n",
    "\n",
    "plt.errorbar(redshift, distance, distance_sigma)\n",
    "plt.plot(redshift, vecLumDistM1(redshift), label=\"Model 1\")\n",
    "plt.plot(redshift, vecLumDistM2(redshift), label=\"Model 2\")\n",
    "plt.plot(redshift, vecLumDistM3(redshift), label=\"Model 3\")\n",
    "plt.legend()"
   ],
   "metadata": {
    "collapsed": false,
    "pycharm": {
     "name": "#%%\n"
    }
   }
  },
  {
   "cell_type": "markdown",
   "metadata": {
    "collapsed": true
   },
   "source": [
    "#### Task 8\n",
    "\n",
    "Answer the following questions:\n",
    "\n",
    "1) What are the Omega_DE values for the above models? Which model contains no Dark Energy at all?\n",
    "\n",
    "2) Just judging by eye, which model seems to be the best fit to the data and why?"
   ]
  },
  {
   "cell_type": "markdown",
   "source": [
    "    1) The Omega_DE values for the models above are 1, 0.7, and 0 respectivly.\n",
    "       Since Omega_DE = 1 - Omega_M, the model with no Dark Energy is Model 3.\n",
    "\n",
    "    2) Judging by eye, the model with the best fit to the data seems to be model 2.\n",
    "       This is the case since it most closely trends with and within the error bars of the plotted values."
   ],
   "metadata": {
    "collapsed": false,
    "pycharm": {
     "name": "#%% md\n"
    }
   }
  },
  {
   "cell_type": "markdown",
   "metadata": {},
   "source": [
    "#### Task 9\n",
    "\n",
    "It is now time to define a proper function to judge whether these models are good fit to the data. This is done through the $\\chi^2$ function that we mentioned in the \"Fit a line\" notebook.\n",
    "\n",
    "We can use the following function:"
   ]
  },
  {
   "cell_type": "code",
   "execution_count": 139,
   "metadata": {},
   "outputs": [],
   "source": [
    "def chi2(x,x_err,y):\n",
    "    \"\"\"\n",
    "    # this function computes the chi2 between a vector containing measurements \n",
    "    #(x) and their experimental errors (x_err), with respect to a model predictions y \n",
    "    \"\"\"\n",
    "    return np.sum((x-y)**2/x_err**2)"
   ]
  },
  {
   "cell_type": "markdown",
   "metadata": {},
   "source": [
    "Calculate the $\\chi^2$ of the model with Omega_m = 0.3. \n",
    "\n",
    "The task is to understand what vectors to use for x (observed luminosity distances), x_err (uncertainties), and y (luminosity distances predicted by a given model)."
   ]
  },
  {
   "cell_type": "code",
   "execution_count": 140,
   "outputs": [
    {
     "data": {
      "text/plain": "316.2052793273291"
     },
     "execution_count": 140,
     "metadata": {},
     "output_type": "execute_result"
    }
   ],
   "source": [
    "chi2(distance, distance_sigma, vecLumDistM2(redshift))"
   ],
   "metadata": {
    "collapsed": false,
    "pycharm": {
     "name": "#%%\n"
    }
   }
  },
  {
   "cell_type": "markdown",
   "metadata": {},
   "source": [
    "#### Task 10\n",
    "\n",
    "And now the magic begins!\n",
    "\n",
    "Calculate and save the $\\chi^2$ values for different models with values of Omega_m between 0 and 1, spaced every 0.05.\n",
    "\n",
    "Create a scatter plot that has the values of Omega_m on the x axis, and the value of the $\\chi^2$ on the y axis."
   ]
  },
  {
   "cell_type": "code",
   "execution_count": 141,
   "outputs": [
    {
     "data": {
      "text/plain": "<matplotlib.collections.PathCollection at 0x17bc2e86760>"
     },
     "execution_count": 141,
     "metadata": {},
     "output_type": "execute_result"
    },
    {
     "data": {
      "text/plain": "<Figure size 576x432 with 1 Axes>",
      "image/png": "[encoded data removed]"
     },
     "metadata": {
      "needs_background": "light"
     },
     "output_type": "display_data"
    }
   ],
   "source": [
    "modelValues = np.arange(0, 1, 0.05)\n",
    "\n",
    "lumDistanceModels = []\n",
    "\n",
    "for m in modelValues:\n",
    "    vecLumDistM = np.vectorize(lambda z: LumDist(z, Omegam=m))\n",
    "\n",
    "    lumDistanceModels.append(vecLumDistM(redshift))\n",
    "\n",
    "chi2Values = []\n",
    "\n",
    "for model in lumDistanceModels:\n",
    "    chi2Values.append(chi2(distance, distance_sigma, model))\n",
    "\n",
    "plt.figure(figsize=(8,6))\n",
    "plt.xlabel('Omega_M')\n",
    "plt.ylabel('Chi^2')\n",
    "\n",
    "plt.xticks(np.arange(0, 1, 0.15))\n",
    "\n",
    "plt.scatter(modelValues, chi2Values)"
   ],
   "metadata": {
    "collapsed": false,
    "pycharm": {
     "name": "#%%\n"
    }
   }
  },
  {
   "cell_type": "markdown",
   "metadata": {},
   "source": [
    "#### Task 11\n",
    "\n",
    "Find the model with the lowest $\\chi^2$ and answer the questions:\n",
    "\n",
    "1. Which value of Omega_m corresponds to this model? \n",
    "\n",
    "2. Which value of Omega_DE corresponds to this model?\n",
    "\n",
    "3. Based on your answers, is a non-zero value of Dark Energy supported by the data?"
   ]
  },
  {
   "cell_type": "markdown",
   "source": [
    "    1) The Omega_m for the model with the lowest $\\chi^2$ is 0.15.\n",
    "\n",
    "    2) In this model, Omega_DE would be 0.85.\n",
    "\n",
    "    3) Yes, according to this data the amount of Dark Energy in the universe must be a non-zero value."
   ],
   "metadata": {
    "collapsed": false,
    "pycharm": {
     "name": "#%% md\n"
    }
   }
  },
  {
   "cell_type": "markdown",
   "metadata": {},
   "source": [
    "#### Task 12 (optional, for Extra Credit)\n",
    "\n",
    "Repeat the $\\chi^2$ analysis for a two parameter model, with Omega_m varying between 0 and 1 in 0.05 intervals \n",
    "and H_0, the Hubble constant, varying between 50 and 80 km/s/Mpc in intervals of 5 km/s/Mpc.\n",
    "\n",
    "What are the values of Omega_m and H_0 that correspond to the lowest $\\chi^2$? How do your conclusions change in this case?\n"
   ]
  },
  {
   "cell_type": "code",
   "execution_count": 142,
   "outputs": [
    {
     "name": "stdout",
     "output_type": "stream",
     "text": [
      "[0.3] [65]\n"
     ]
    }
   ],
   "source": [
    "modelValues = np.arange(0, 1, 0.05) # 20 Values\n",
    "hubbleValues = np.arange(50, 80, 5) # 6 Values\n",
    "\n",
    "lumDistanceModels = []\n",
    "\n",
    "chi2Values = []\n",
    "\n",
    "for m in modelValues:\n",
    "    for h in hubbleValues:\n",
    "        vecLumDistM = np.vectorize(lambda z: LumDist(z, H0=h, Omegam=m))\n",
    "\n",
    "        chi2Values.append(chi2(distance, distance_sigma, vecLumDistM(redshift)))\n",
    "\n",
    "chi2Array = np.array(chi2Values).reshape((20, 6))\n",
    "\n",
    "minChi2 = np.where(chi2Array == chi2Array.min())\n",
    "\n",
    "print(modelValues[minChi2[0]], hubbleValues[minChi2[1]])"
   ],
   "metadata": {
    "collapsed": false,
    "pycharm": {
     "name": "#%%\n"
    }
   }
  },
  {
   "cell_type": "markdown",
   "source": [
    "The lowest $\\chi^2$ value corresponds to an Omega_M value of 0.3 and a H_0 value of 65."
   ],
   "metadata": {
    "collapsed": false,
    "pycharm": {
     "name": "#%% md\n"
    }
   }
  }
 ],
 "metadata": {
  "kernelspec": {
   "display_name": "Python 3",
   "language": "python",
   "name": "python3"
  },
  "language_info": {
   "codemirror_mode": {
    "name": "ipython",
    "version": 3
   },
   "file_extension": ".py",
   "mimetype": "text/x-python",
   "name": "python",
   "nbconvert_exporter": "python",
   "pygments_lexer": "ipython3",
   "version": "3.7.3"
  }
 },
 "nbformat": 4,
 "nbformat_minor": 2
}