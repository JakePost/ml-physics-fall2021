{
 "cells": [
  {
   "cell_type": "markdown",
   "metadata": {
    "collapsed": true,
    "pycharm": {
     "name": "#%% md\n"
    }
   },
   "source": [
    "## Homework #3\n",
    "### October 27, 2021\n",
    "### Jake Postiglione"
   ]
  },
  {
   "cell_type": "markdown",
   "source": [
    "1. If you had to eliminate one feature without compromising performance too much, which one would you pick, and why?\n",
    "\n",
    "    If I had to eliminate one feature of the habitability set, it would be the distance from the parent star.\n",
    "    It seems like, with the data we have, just two features of stellar mass and orbital period are enough for the model\n",
    "    to correctly classify new planets.\n",
    "\n",
    "2. In class, we used k = 3 neighbors in the kNN algorithm. Would you recommend increasing the number of neighbors used in the classification for this data set? Why or why not? (Please note that providing the answer without a justification, whether as reasoning or in code, will not get any points!)\n",
    "\n",
    "    For this dataset, I would not recommended a higher value for k. I think, for the kNN algorithm, a careful consideration\n",
    "    needs to be taken into account to make sure your k value is large enough to correctly classify object, but not too large\n",
    "    to the point where unwanted \"noise\" contributes to the classification of an object. I think if the data was extreamly\n",
    "    clustered and clumped together, having a large k value may actually be benificial; however, I think that with this\n",
    "    algorithm in general, the \"boundery lines\" seperating different classifications can contain a number of false positives / negatives.\n",
    "\n",
    "3. Assuming that the maximum Gini impurity is obtained when the objects are uniformly distributed among classes, figure out the maximum Gini impurity in a N-class classification problem.\n",
    "\n",
    "    \n",
    "\n",
    "\n",
    "\n"
   ],
   "metadata": {
    "collapsed": false,
    "pycharm": {
     "name": "#%% md\n"
    }
   }
  }
 ],
 "metadata": {
  "kernelspec": {
   "display_name": "Python 3",
   "language": "python",
   "name": "python3"
  },
  "language_info": {
   "codemirror_mode": {
    "name": "ipython",
    "version": 2
   },
   "file_extension": ".py",
   "mimetype": "text/x-python",
   "name": "python",
   "nbconvert_exporter": "python",
   "pygments_lexer": "ipython2",
   "version": "2.7.6"
  }
 },
 "nbformat": 4,
 "nbformat_minor": 0
}